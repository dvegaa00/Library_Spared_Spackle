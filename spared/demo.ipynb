{
 "cells": [
  {
   "cell_type": "markdown",
   "metadata": {},
   "source": [
    "## SpaRED Library DEMO \n",
    "This demo demostrate how to use the functions available in our SpaRED PyPI library"
   ]
  },
  {
   "cell_type": "markdown",
   "metadata": {},
   "source": [
    "### Datasets\n",
    "the *datasets* file has a function to get any desired dataset and return the adata as well as the parameter dictionary. This function returns a filtered and processed adata. This function has a parameter called *visualize* that allows for all visualizations if set to True. The fuction also saves the raw_adata (not processed) in case it is required. "
   ]
  },
  {
   "cell_type": "code",
   "execution_count": null,
   "metadata": {},
   "outputs": [],
   "source": [
    "import datasets\n",
    "import anndata as ad\n",
    "\n",
    "#get_dataset(dataset, visualize)\n",
    "data = datasets.get_dataset(\"villacampa_lung_organoid\", visualize=True)\n",
    "\n",
    "#adata\n",
    "adata = data.adata\n",
    "\n",
    "#parameters dictionary\n",
    "param_dict = data.param_dict"
   ]
  }
 ],
 "metadata": {
  "kernelspec": {
   "display_name": "H2ST",
   "language": "python",
   "name": "python3"
  },
  "language_info": {
   "name": "python",
   "version": "3.8.18"
  }
 },
 "nbformat": 4,
 "nbformat_minor": 2
}

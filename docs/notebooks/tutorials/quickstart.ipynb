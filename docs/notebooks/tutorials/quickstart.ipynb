{
 "cells": [
  {
   "cell_type": "code",
   "execution_count": 1,
   "metadata": {},
   "outputs": [],
   "source": [
    "import os\n",
    "import sys\n",
    "from pathlib import Path\n",
    "\n",
    "currentdir = os.getcwd()\n",
    "parentdir = str(Path(currentdir).parents[2])\n",
    "sys.path.insert(0, parentdir)\n",
    "\n",
    "import spared"
   ]
  },
  {
   "cell_type": "code",
   "execution_count": 2,
   "metadata": {},
   "outputs": [
    {
     "name": "stdout",
     "output_type": "stream",
     "text": [
      "Loading villacampa_lung_organoid dataset with the following data split:\n",
      "train data: ['V19D02-088_A1', 'V19D02-088_B1']\n",
      "val data: ['V19D02-088_C1']\n",
      "test data: ['V19D02-088_D1']\n",
      "Parameters not found so this set of parameters is saved in /media/SSD4/gmmejia/Library_Spared_Spackle/spared/processed_data/villacampa_data/villacampa_lung_organoid/2024-06-13-18-46-33\n",
      "Computing main adata file from downloaded raw data...\n",
      "Loading train data\n",
      "Loading val data\n",
      "Loading test data\n",
      "Starting data filtering...\n",
      "Data filtering took 0.78 seconds\n",
      "Number of genes that passed the filtering:        641 out of 33538 (1.91%)\n",
      "Number of observations that passed the filtering: 1832 out of 1832 (100.00%)\n",
      "Starting data processing...\n",
      "Number of genes not found in GTF file by TPM normalization: 13 out of 641 (2.03%) (628 remaining)\n",
      "Applying adaptive median filter to collection...\n"
     ]
    },
    {
     "name": "stderr",
     "output_type": "stream",
     "text": [
      "100%|██████████| 4/4 [00:03<00:00,  1.05it/s]\n"
     ]
    },
    {
     "name": "stdout",
     "output_type": "stream",
     "text": [
      "Computing Moran's I for each gene over each slide using data of layer d_log1p...\n"
     ]
    },
    {
     "name": "stderr",
     "output_type": "stream",
     "text": [
      "/home/gmmejia/anaconda3/envs/spared/lib/python3.12/site-packages/tqdm/auto.py:21: TqdmWarning: IProgress not found. Please update jupyter and ipywidgets. See https://ipywidgets.readthedocs.io/en/stable/user_install.html\n",
      "  from .autonotebook import tqdm as notebook_tqdm\n",
      "100%|██████████| 1000/1000 [00:16<00:00, 61.13/s]\n",
      "100%|██████████| 1000/1000 [00:04<00:00, 202.36/s]\n",
      "100%|██████████| 1000/1000 [00:01<00:00, 678.95/s]\n",
      "100%|██████████| 1000/1000 [00:01<00:00, 556.73/s]\n"
     ]
    },
    {
     "name": "stdout",
     "output_type": "stream",
     "text": [
      "Filtering genes by Moran's I. Keeping top 128 genes.\n",
      "Found 4 batches.\n",
      "Adjusting for 0 covariate(s) or covariate level(s).\n",
      "Standardizing Data across genes.\n",
      "Fitting L/S model and finding priors.\n",
      "Finding parametric adjustments.\n",
      "Adjusting the Data\n",
      "Found 4 batches.\n",
      "Adjusting for 0 covariate(s) or covariate level(s).\n",
      "Standardizing Data across genes.\n",
      "Fitting L/S model and finding priors.\n",
      "Finding parametric adjustments.\n",
      "Adjusting the Data\n",
      "Percentage of imputed observations with median filter: 25.460%\n",
      "Processing of the data took 31.74 seconds\n",
      "The processed dataset looks like this:\n",
      "AnnData object with n_obs × n_vars = 1832 × 128\n",
      "    obs: 'in_tissue', 'array_row', 'array_col', 'patient', 'slide_id', 'split', 'unique_id', 'n_genes_by_counts', 'total_counts'\n",
      "    var: 'gene_ids', 'feature_types', 'genome', 'gene_symbol', 'exp_frac', 'glob_exp_frac', 'n_cells_by_counts', 'mean_counts', 'pct_dropout_by_counts', 'total_counts', 'gene_length', 'd_log1p_moran', 'log1p_avg_exp', 'd_log1p_avg_exp', 'c_log1p_avg_exp', 'c_d_log1p_avg_exp'\n",
      "    uns: 'spatial'\n",
      "    obsm: 'spatial', 'patches_scale_1.0'\n",
      "    layers: 'counts', 'tpm', 'log1p', 'd_log1p', 'c_log1p', 'c_d_log1p', 'deltas', 'd_deltas', 'c_deltas', 'c_d_deltas', 'mask'\n"
     ]
    }
   ],
   "source": [
    "from spared.datasets import get_dataset\n",
    "test_dataset = get_dataset(\"villacampa_lung_organoid\", visualize=False)"
   ]
  },
  {
   "cell_type": "code",
   "execution_count": 3,
   "metadata": {},
   "outputs": [
    {
     "name": "stdout",
     "output_type": "stream",
     "text": [
      "Using noisy_delta layer for training. This will probably yield bad results.\n",
      "Percentage of imputed observations with median filter: 25.460%\n"
     ]
    }
   ],
   "source": [
    "from spared.dataloaders import get_pretrain_dataloaders\n",
    "# Declare train and test loaders\n",
    "train_dataloader, val_dataloader, test_dataloader = get_pretrain_dataloaders(\n",
    "    adata=test_dataset.adata,\n",
    "    layer = 'c_d_log1p',\n",
    "    batch_size = 265,\n",
    "    shuffle = True,\n",
    "    use_cuda = True\n",
    ")"
   ]
  },
  {
   "cell_type": "code",
   "execution_count": 4,
   "metadata": {},
   "outputs": [],
   "source": [
    "from spared.models import ImageBackbone\n",
    "import argparse\n",
    "import torch\n",
    "\n",
    "test_args = argparse.Namespace()\n",
    "\n",
    "arg_dict = vars(test_args)\n",
    "\n",
    "input_dict = {\n",
    "    'img_backbone': 'ShuffleNetV2',\n",
    "    'img_use_pretrained': True,\n",
    "    'average_test': False,\n",
    "    'optim_metric': 'MSE',\n",
    "    'robust_loss': False,\n",
    "    'optimizer': 'Adam',\n",
    "    'lr': 0.0001,\n",
    "    'momentum': 0.9,\n",
    "}\n",
    "\n",
    "for key,value in input_dict.items():\n",
    "    arg_dict[key]= value\n",
    "\n",
    "\n",
    "# Declare device\n",
    "device = torch.device(\"cuda\" if torch.cuda.is_available() else \"cpu\")\n",
    "\n",
    "test_model = ImageBackbone(args=test_args,  latent_dim=test_dataset.adata.n_vars).to(device)\n",
    "\n"
   ]
  },
  {
   "cell_type": "code",
   "execution_count": 5,
   "metadata": {},
   "outputs": [
    {
     "name": "stderr",
     "output_type": "stream",
     "text": [
      "GPU available: True (cuda), used: True\n",
      "TPU available: False, using: 0 TPU cores\n",
      "IPU available: False, using: 0 IPUs\n",
      "HPU available: False, using: 0 HPUs\n"
     ]
    }
   ],
   "source": [
    "from lightning.pytorch import Trainer\n",
    "from lightning.pytorch.callbacks import ModelCheckpoint\n",
    "\n",
    "# Define checkpoint callback to save best model in validation\n",
    "checkpoint_callback = ModelCheckpoint(\n",
    "    monitor=f'val_MSE', # Choose your validation metric\n",
    "    save_top_k=1, # Save only the best model\n",
    "    mode='min'\n",
    ")\n",
    "\n",
    "# Define the trainier and fit the model\n",
    "trainer = Trainer(\n",
    "    max_steps=1000,\n",
    "    val_check_interval=10,\n",
    "    log_every_n_steps=10,\n",
    "    callbacks=[checkpoint_callback],\n",
    "    check_val_every_n_epoch=None,\n",
    "    devices=1,\n",
    "    enable_progress_bar=True,\n",
    "    enable_model_summary=True\n",
    ")"
   ]
  },
  {
   "cell_type": "code",
   "execution_count": 6,
   "metadata": {},
   "outputs": [
    {
     "name": "stderr",
     "output_type": "stream",
     "text": [
      "LOCAL_RANK: 0 - CUDA_VISIBLE_DEVICES: [0,1,2,3,4,5,6,7]\n",
      "\n",
      "  | Name            | Type         | Params\n",
      "-------------------------------------------------\n",
      "0 | test_transforms | Normalize    | 0     \n",
      "1 | criterion       | MSELoss      | 0     \n",
      "2 | encoder         | ShuffleNetV2 | 472 K \n",
      "-------------------------------------------------\n",
      "472 K     Trainable params\n",
      "0         Non-trainable params\n",
      "472 K     Total params\n",
      "1.892     Total estimated model params size (MB)\n"
     ]
    },
    {
     "name": "stdout",
     "output_type": "stream",
     "text": [
      "Epoch 249: 100%|██████████| 4/4 [00:00<00:00,  6.34it/s, v_num=3]          "
     ]
    },
    {
     "name": "stderr",
     "output_type": "stream",
     "text": [
      "`Trainer.fit` stopped: `max_steps=1000` reached.\n"
     ]
    },
    {
     "name": "stdout",
     "output_type": "stream",
     "text": [
      "Epoch 249: 100%|██████████| 4/4 [00:00<00:00,  5.95it/s, v_num=3]\n"
     ]
    }
   ],
   "source": [
    "trainer.fit(\n",
    "    model=test_model,\n",
    "    train_dataloaders=train_dataloader,\n",
    "    val_dataloaders=val_dataloader\n",
    ")"
   ]
  },
  {
   "cell_type": "code",
   "execution_count": 7,
   "metadata": {},
   "outputs": [
    {
     "name": "stderr",
     "output_type": "stream",
     "text": [
      "LOCAL_RANK: 0 - CUDA_VISIBLE_DEVICES: [0,1,2,3,4,5,6,7]\n"
     ]
    },
    {
     "name": "stdout",
     "output_type": "stream",
     "text": [
      "Testing DataLoader 0: 100%|██████████| 3/3 [00:00<00:00, 10.49it/s]\n",
      "────────────────────────────────────────────────────────────────────────────────────────────────────────────────────────\n",
      "       Test metric             DataLoader 0\n",
      "────────────────────────────────────────────────────────────────────────────────────────────────────────────────────────\n",
      "       test_Global          -3.1575732231140137\n",
      "        test_MAE            1.0347423553466797\n",
      "        test_MSE            1.7111455202102661\n",
      "      test_PCC-Gene         0.12955906987190247\n",
      "     test_PCC-Patch          0.879209578037262\n",
      "      test_R2-Gene          -1.7244747877120972\n",
      "      test_R2-Patch         0.3040209114551544\n",
      "────────────────────────────────────────────────────────────────────────────────────────────────────────────────────────\n"
     ]
    }
   ],
   "source": [
    "# Load the best model after training\n",
    "best_model_path = checkpoint_callback.best_model_path\n",
    "model = ImageBackbone.load_from_checkpoint(best_model_path)\n",
    "\n",
    "# Test model if there is a test dataloader\n",
    "if not (test_dataloader is None):\n",
    "    trainer.test(model, dataloaders=test_dataloader)"
   ]
  }
 ],
 "metadata": {
  "kernelspec": {
   "display_name": "st",
   "language": "python",
   "name": "python3"
  },
  "language_info": {
   "codemirror_mode": {
    "name": "ipython",
    "version": 3
   },
   "file_extension": ".py",
   "mimetype": "text/x-python",
   "name": "python",
   "nbconvert_exporter": "python",
   "pygments_lexer": "ipython3",
   "version": "3.12.2"
  }
 },
 "nbformat": 4,
 "nbformat_minor": 2
}

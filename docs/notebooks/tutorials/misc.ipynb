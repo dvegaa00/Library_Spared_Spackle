{
 "cells": [
  {
   "cell_type": "markdown",
   "metadata": {},
   "source": [
    "## SpaRED Library MISC DEMO\n",
    "\n",
    "This demonstration illustrates the usage of various functions available in our SpaRED PyPI library. The functions we will explore are categorized as follows:\n",
    "\n",
    "* Spot Features\n",
    "* Graph operations\n",
    "* Dataloaders\n",
    "* Models\n",
    "* Metrics\n",
    "\n",
    "These functions provide essential tools for preparing your data for model training and inference, as well as for evaluating model performance."
   ]
  },
  {
   "cell_type": "code",
   "execution_count": 2,
   "metadata": {},
   "outputs": [
    {
     "name": "stdout",
     "output_type": "stream",
     "text": [
      "/media/SSD4/dvegaa/spared\n"
     ]
    }
   ],
   "source": [
    "import matplotlib.pyplot as plt\n",
    "import matplotlib.image as im\n",
    "import os\n",
    "import sys\n",
    "from pathlib import Path\n",
    "\n",
    "currentdir = os.getcwd()\n",
    "parentdir = str(Path(currentdir).parents[2])\n",
    "sys.path.insert(0, parentdir)\n",
    "print(parentdir)\n",
    "\n",
    "import spared"
   ]
  },
  {
   "cell_type": "markdown",
   "metadata": {},
   "source": [
    "### Load Datasets\n",
    "\n",
    "The `datasets` file has a function to get any desired dataset and return the adata as well as the parameter dictionary. This function returns a filtered and processed adata. This function has a parameter called *visualize* that allows for all visualizations if set to True. The fuction also saves the raw_adata (not processed) in case it is required. \n",
    "\n",
    "We will begin by loading a dataset and setting the *visualize* parameter as False. This way we can look at each plotting function separetetly as evaluate the generated images. "
   ]
  },
  {
   "cell_type": "code",
   "execution_count": 12,
   "metadata": {},
   "outputs": [
    {
     "name": "stdout",
     "output_type": "stream",
     "text": [
      "Loading vicari_mouse_brain dataset with the following data split:\n",
      "train data: ['V11L12-038_A1', 'V11L12-038_B1', 'V11L12-038_C1', 'V11L12-038_D1', 'V11L12-109_A1', 'V11L12-109_B1', 'V11L12-109_C1', 'V11L12-109_D1']\n",
      "val data: ['V11T16-085_A1', 'V11T16-085_B1', 'V11T16-085_C1', 'V11T16-085_D1']\n",
      "test data: ['V11T17-101_A1', 'V11T17-101_B1']\n",
      "Parameters already saved in /media/SSD4/dvegaa/spared/spared/processed_data/vicari_data/vicari_mouse_brain/2024-06-13-16-36-13/parameters.json\n",
      "Loading main adata file from disk (/media/SSD4/dvegaa/spared/spared/processed_data/vicari_data/vicari_mouse_brain/2024-06-13-16-36-13/adata.h5ad)...\n",
      "The loaded adata object looks like this:\n",
      "AnnData object with n_obs × n_vars = 43804 × 128\n",
      "    obs: 'in_tissue', 'array_row', 'array_col', 'patient', 'slide_id', 'split', 'unique_id', 'n_genes_by_counts', 'total_counts'\n",
      "    var: 'gene_ids', 'feature_types', 'genome', 'gene_symbol', 'exp_frac', 'glob_exp_frac', 'n_cells_by_counts', 'mean_counts', 'pct_dropout_by_counts', 'total_counts', 'gene_length', 'd_log1p_moran', 'log1p_avg_exp', 'd_log1p_avg_exp', 'c_log1p_avg_exp', 'c_d_log1p_avg_exp'\n",
      "    uns: 'spatial'\n",
      "    obsm: 'patches_scale_1.0', 'spatial'\n",
      "    layers: 'c_d_deltas', 'c_d_log1p', 'c_deltas', 'c_log1p', 'counts', 'd_deltas', 'd_log1p', 'deltas', 'log1p', 'mask', 'tpm'\n"
     ]
    }
   ],
   "source": [
    "from spared.datasets import get_dataset\n",
    "import anndata as ad\n",
    "\n",
    "#get_dataset(dataset, visualize)\n",
    "data = get_dataset(\"vicari_mouse_brain\", visualize=False)\n",
    "\n",
    "#adata\n",
    "adata = data.adata\n",
    "\n",
    "#parameters dictionary\n",
    "param_dict = data.param_dict\n",
    "\n",
    "#loading raw adata \n",
    "dataset_path = os.path.join(parentdir, \"spared/processed_data/vicari_data/vicari_mouse_brain/2024-06-13-16-36-13\")\n",
    "raw_adata = ad.read_h5ad(os.path.join(dataset_path, 'adata_raw.h5ad'))"
   ]
  },
  {
   "cell_type": "markdown",
   "metadata": {},
   "source": [
    "We are ready to explore the functions one by one. This tutorial will demostrate how to use each function, what to introduce as input and the expected output. "
   ]
  },
  {
   "cell_type": "markdown",
   "metadata": {},
   "source": [
    "### Spot Features Functions\n",
    "\n",
    "`compute_patches_embeddings` receives as input:\n",
    "\n",
    "* **adata (ad.AnnData):** AnnData object to process\n",
    "* **backbone (str):** backbone model to use\n",
    "* **model_path (str):** path to where the model will be saved\n",
    "* **patch_size (int):** size of the patches\n",
    "\n",
    "And computes embeddings for a given backbone model and adata object. The embeddings are stored in adata.obsm[f'embeddings_{backbone}'] if the processed adata."
   ]
  },
  {
   "cell_type": "code",
   "execution_count": 13,
   "metadata": {},
   "outputs": [
    {
     "name": "stderr",
     "output_type": "stream",
     "text": [
      "Getting embeddings: 100%|██████████| 172/172 [01:09<00:00,  2.46it/s]\n"
     ]
    },
    {
     "data": {
      "text/plain": [
       "AnnData object with n_obs × n_vars = 43804 × 128\n",
       "    obs: 'in_tissue', 'array_row', 'array_col', 'patient', 'slide_id', 'split', 'unique_id', 'n_genes_by_counts', 'total_counts'\n",
       "    var: 'gene_ids', 'feature_types', 'genome', 'gene_symbol', 'exp_frac', 'glob_exp_frac', 'n_cells_by_counts', 'mean_counts', 'pct_dropout_by_counts', 'total_counts', 'gene_length', 'd_log1p_moran', 'log1p_avg_exp', 'd_log1p_avg_exp', 'c_log1p_avg_exp', 'c_d_log1p_avg_exp'\n",
       "    uns: 'spatial'\n",
       "    obsm: 'patches_scale_1.0', 'spatial', 'embeddings_densenet'\n",
       "    layers: 'c_d_deltas', 'c_d_log1p', 'c_deltas', 'c_log1p', 'counts', 'd_deltas', 'd_log1p', 'deltas', 'log1p', 'mask', 'tpm'"
      ]
     },
     "execution_count": 13,
     "metadata": {},
     "output_type": "execute_result"
    }
   ],
   "source": [
    "from spared.spot_features import compute_patches_embeddings\n",
    "\n",
    "compute_patches_embeddings(adata=adata, backbone='densenet', model_path=\"None\", patch_size= 224)\n",
    "adata"
   ]
  },
  {
   "cell_type": "markdown",
   "metadata": {},
   "source": [
    "`compute_patches_predictions` receives as input:\n",
    "\n",
    "* **adata (ad.AnnData):** AnnData object to process\n",
    "* **backbone (str):** backbone model to use\n",
    "* **model_path (str):** path to where the model will be saved\n",
    "* **patch_size (int):** size of the patches\n",
    "\n",
    "And computes predictions for a given backbone model and adata object. The predictions are stored in adata.obsm[f'predictions_{backbone}'] if the processed adata."
   ]
  },
  {
   "cell_type": "code",
   "execution_count": 14,
   "metadata": {},
   "outputs": [
    {
     "name": "stderr",
     "output_type": "stream",
     "text": [
      "Getting predictions: 100%|██████████| 172/172 [01:10<00:00,  2.45it/s]\n"
     ]
    },
    {
     "data": {
      "text/plain": [
       "AnnData object with n_obs × n_vars = 43804 × 128\n",
       "    obs: 'in_tissue', 'array_row', 'array_col', 'patient', 'slide_id', 'split', 'unique_id', 'n_genes_by_counts', 'total_counts'\n",
       "    var: 'gene_ids', 'feature_types', 'genome', 'gene_symbol', 'exp_frac', 'glob_exp_frac', 'n_cells_by_counts', 'mean_counts', 'pct_dropout_by_counts', 'total_counts', 'gene_length', 'd_log1p_moran', 'log1p_avg_exp', 'd_log1p_avg_exp', 'c_log1p_avg_exp', 'c_d_log1p_avg_exp'\n",
       "    uns: 'spatial'\n",
       "    obsm: 'patches_scale_1.0', 'spatial', 'embeddings_densenet', 'predictions_densenet'\n",
       "    layers: 'c_d_deltas', 'c_d_log1p', 'c_deltas', 'c_log1p', 'counts', 'd_deltas', 'd_log1p', 'deltas', 'log1p', 'mask', 'tpm'"
      ]
     },
     "execution_count": 14,
     "metadata": {},
     "output_type": "execute_result"
    }
   ],
   "source": [
    "from spared.spot_features import compute_patches_predictions\n",
    "\n",
    "compute_patches_predictions(adata=adata, backbone='densenet', model_path=\"None\", patch_size= 224)\n",
    "adata"
   ]
  },
  {
   "cell_type": "markdown",
   "metadata": {},
   "source": [
    "`compute_dim_red` receives as input:\n",
    "\n",
    "* **adata (ad.AnnData):** AnnData object to process\n",
    "* **from_layer (str):** the key in adata.layers where the expression matrix is stored\n",
    "\n",
    "And returns the adata with computed embeddings and clusters. The clusters are computed using Leiden algorithm and are stored in adata.obs[\"cluster\"]. This function also reduce the dimensionality of the adata by a method called Principal Component Analysis. The results are stored in adata.obsm['X_pca']. Adittionaly, this function also performs the UMAP (Uniform Manifold Approximation and Projection), which helps you visualize your high-dimensional data in 2D or 3D. The results are stored in adata.obsm['X_umap']. "
   ]
  },
  {
   "cell_type": "code",
   "execution_count": 15,
   "metadata": {},
   "outputs": [
    {
     "data": {
      "text/plain": [
       "AnnData object with n_obs × n_vars = 43804 × 128\n",
       "    obs: 'in_tissue', 'array_row', 'array_col', 'patient', 'slide_id', 'split', 'unique_id', 'n_genes_by_counts', 'total_counts', 'cluster'\n",
       "    var: 'gene_ids', 'feature_types', 'genome', 'gene_symbol', 'exp_frac', 'glob_exp_frac', 'n_cells_by_counts', 'mean_counts', 'pct_dropout_by_counts', 'total_counts', 'gene_length', 'd_log1p_moran', 'log1p_avg_exp', 'd_log1p_avg_exp', 'c_log1p_avg_exp', 'c_d_log1p_avg_exp'\n",
       "    uns: 'spatial', 'pca', 'neighbors', 'umap', 'leiden'\n",
       "    obsm: 'patches_scale_1.0', 'spatial', 'embeddings_densenet', 'predictions_densenet', 'X_pca', 'X_umap'\n",
       "    varm: 'PCs'\n",
       "    layers: 'c_d_deltas', 'c_d_log1p', 'c_deltas', 'c_log1p', 'counts', 'd_deltas', 'd_log1p', 'deltas', 'log1p', 'mask', 'tpm'\n",
       "    obsp: 'distances', 'connectivities'"
      ]
     },
     "execution_count": 15,
     "metadata": {},
     "output_type": "execute_result"
    }
   ],
   "source": [
    "from spared.spot_features import compute_dim_red\n",
    "\n",
    "adata = compute_dim_red(adata=adata, from_layer=\"c_d_log1p\")\n",
    "adata"
   ]
  },
  {
   "cell_type": "markdown",
   "metadata": {},
   "source": [
    "`get_spatial_neighbors` receives as input:\n",
    "\n",
    "* **adata (ad.AnnData):** AnnData object to process\n",
    "* **n_hops (int):** the size of the neighborhood to take into account to compute the neighbors where the expression matrix is stored\n",
    "* **hex_geometry (bool):** whether the graph is hexagonal (True) or a grid (False)\n",
    "\n",
    "And returns a neighbors dictionary for an AnnData object where the keys are the ids of each spot and the values correspond to a list of neighbor spots. The neighbors are computed according to topological distances over a graph defined by the hex_geometry connectivity"
   ]
  },
  {
   "cell_type": "code",
   "execution_count": 27,
   "metadata": {},
   "outputs": [],
   "source": [
    "from spared.spot_features import get_spatial_neighbors\n",
    "\n",
    "dict_spatial_neighbors = get_spatial_neighbors(adata=adata, n_hops=6, hex_geometry=param_dict[\"hex_geometry\"])"
   ]
  },
  {
   "cell_type": "markdown",
   "metadata": {},
   "source": [
    "### Graph Operations Functions\n",
    "\n",
    "`get_graphs_one_slide` receives as input:\n",
    "\n",
    "* **adata (ad.AnnData):** Slide AnnData object to process\n",
    "* **n_hops (int):** the number of hops to compute the graph\n",
    "* **layer:** the layer of the graph to predict, which will be added as *y* to the graph\n",
    "* **hex_geometry (bool):** whether the graph has a hexagonal geometry or not\n",
    "\n",
    "And returns a Tuple. The first position corresponds to a dictionary where the patch names are the keys and pytorch geometric graph for each one as values. The second position is an integer corresponding to the maximun column or row difference between the center and the neighbors.\n",
    "\n",
    "Before using this function, the patch embeddings and predictions must be computed using the following functions:\n",
    "* `compute_patches_embeddings`\n",
    "* `compute_patches_predictions`\n"
   ]
  },
  {
   "cell_type": "code",
   "execution_count": 28,
   "metadata": {},
   "outputs": [
    {
     "name": "stderr",
     "output_type": "stream",
     "text": [
      "Getting embeddings: 100%|██████████| 172/172 [01:07<00:00,  2.54it/s]\n",
      "Getting predictions: 100%|██████████| 172/172 [01:07<00:00,  2.54it/s]\n"
     ]
    }
   ],
   "source": [
    "from spared.graph_operations import get_graphs_one_slide\n",
    "\n",
    "#Graph operation must have embedding and prediction layers\n",
    "compute_patches_embeddings(adata=adata, backbone='densenet', model_path=\"None\", patch_size= 224)\n",
    "compute_patches_predictions(adata=adata, backbone='densenet', model_path=\"None\", patch_size= 224)\n",
    "\n",
    "#Get slide adata\n",
    "slide_id = adata.obs.slide_id.unique()[0]\n",
    "slide_adata = adata[adata.obs.slide_id == slide_id]\n",
    "\n",
    "#Get graph for one slide\n",
    "dict_graph_slide, max_pos = get_graphs_one_slide(adata=slide_adata, n_hops=6, layer=\"c_d_log1p\", hex_geometry=param_dict[\"hex_geometry\"])"
   ]
  },
  {
   "cell_type": "markdown",
   "metadata": {},
   "source": [
    "\n",
    "`get_sin_cos_positional_embeddings` receives as input:\n",
    "\n",
    "* **graph_dict (dict):** dictionary where the patch names are the keys and a pytorch geometric graphs for each one are values\n",
    "* **max_d_pos (int):** the maximun absolute value in the relative position matrix\n",
    "\n",
    "And adds a transformer-like positional encodings to each graph in a graph dict. It adds the positional\n",
    "encodings under the attribute 'positional_embeddings' for each graph. \n",
    "\n",
    "The input for this function correspond to the output of `get_graphs_one_slide`."
   ]
  },
  {
   "cell_type": "code",
   "execution_count": 30,
   "metadata": {},
   "outputs": [],
   "source": [
    "from spared.graph_operations import get_sin_cos_positional_embeddings\n",
    "\n",
    "dict_pos_emb = get_sin_cos_positional_embeddings(graph_dict=dict_graph_slide, max_d_pos=max_pos)"
   ]
  },
  {
   "cell_type": "markdown",
   "metadata": {},
   "source": [
    "`get_graphs` receives as input:\n",
    "\n",
    "* **adata (ad.AnnData):** AnnData object to build the graphs\n",
    "* **n_hops (int):** the number of hops to compute each graph\n",
    "* **layer (str):** the layer of the graph to predict, which will be added as *y* to the graph\n",
    "* **hex_geometry (bool):** whether the graph has a hexagonal geometry or not\n",
    "\n",
    "And returns a dictionary where the spot names are the keys and pytorch geometric graphs are the values. \n",
    "\n",
    "Before using this function, the patch embeddings and predictions must be computed using the following functions:\n",
    "* `compute_patches_embeddings`\n",
    "* `compute_patches_predictions`"
   ]
  },
  {
   "cell_type": "code",
   "execution_count": 31,
   "metadata": {},
   "outputs": [
    {
     "name": "stderr",
     "output_type": "stream",
     "text": [
      "Getting embeddings: 100%|██████████| 172/172 [01:09<00:00,  2.49it/s]\n",
      "Getting predictions: 100%|██████████| 172/172 [01:08<00:00,  2.51it/s]\n"
     ]
    },
    {
     "name": "stdout",
     "output_type": "stream",
     "text": [
      "Computing graphs...\n"
     ]
    },
    {
     "name": "stderr",
     "output_type": "stream",
     "text": [
      "100%|██████████| 14/14 [01:28<00:00,  6.33s/it]\n"
     ]
    }
   ],
   "source": [
    "from spared.graph_operations import get_graphs\n",
    "\n",
    "#Graph operation must have embedding and prediction layers\n",
    "compute_patches_embeddings(adata=adata, backbone='densenet', model_path=\"None\", patch_size= 224)\n",
    "compute_patches_predictions(adata=adata, backbone='densenet', model_path=\"None\", patch_size= 224)\n",
    "\n",
    "#Get graphs\n",
    "dict_graphs = get_graphs(adata=adata, n_hops=6, layer=\"c_d_log1p\", hex_geometry=param_dict[\"hex_geometry\"])"
   ]
  },
  {
   "cell_type": "markdown",
   "metadata": {},
   "source": [
    "### Dataloaders Functions\n",
    "\n",
    "`get_pretrain_dataloaders` receives as input:\n",
    "\n",
    "* **adata (ad.AnnData):** AnnData object to process\n",
    "* **layer (str):** the layer used for pre-training. Default set to *deltas*\n",
    "* **batch_size (int):** the batch size of the loader. Default set to 128\n",
    "* **shuffle (bool):** whether to shuffle the data in the loaders\n",
    "* **use_cude (bool):** whether to use cuda or not\n",
    "\n",
    "And returns a Tuple containing the train, validation and test dataloaders in the form of *AnnLoader*. If there is no test, the test dataloader in *None*."
   ]
  },
  {
   "cell_type": "code",
   "execution_count": 32,
   "metadata": {},
   "outputs": [
    {
     "name": "stdout",
     "output_type": "stream",
     "text": [
      "Using noisy_delta layer for training. This will probably yield bad results.\n",
      "Percentage of imputed observations with median filter: 27.503%\n"
     ]
    }
   ],
   "source": [
    "from spared.dataloaders import get_pretrain_dataloaders\n",
    "\n",
    "train_loader, val_loader, test_loader = get_pretrain_dataloaders(adata = adata, layer = 'c_d_log1p', batch_size = 128, shuffle = True, use_cuda = False)"
   ]
  },
  {
   "cell_type": "markdown",
   "metadata": {},
   "source": [
    "`get_pretrain_dataloaders` receives as input:\n",
    "\n",
    "* **adata (ad.AnnData):** AnnData object to process\n",
    "* **dataset_path (str):** the path to the dataset (where the graphs will be stored). Defaults set to ''\n",
    "* **layer (str):** the layer used to predict. Default set to 'c_t_log1p'\n",
    "* **n_hops (int):** number of hops to compute the graph. Defaults set to 2\n",
    "* **backbone (str):** backbone model to use. Default set to *densenet*\n",
    "* **model_path (str):** path to the model to use. Default set to *None*\n",
    "* **batch_size (int):** batch size of the dataloaders. Default set to 128\n",
    "* **shuffle (bool):** whether to shuffle the fata in the dataloaders. Default set to *True*\n",
    "* **hex_geometry (bool):** whether the graph is hexagonal or not. Defaults set to *True*\n",
    "* **patch_size (int):** size of the patches.Default set to 224\n",
    "\n",
    "And returns a Tuple containing the train, validation and test graphs dataloaders in the form of *geo_DataLoader*. This function performs all the pipeline to get graphs dataloaders for a dataset, which includes:\n",
    "\n",
    "1. Computes embeddings and predictions for the patches using the specified backbone and model.\n",
    "2. Computes the graph dictionaries for the dataset using the embeddings and predictions.\n",
    "3. Saves the graphs in the dataset_path folder.\n",
    "4. Returns the train, validation and test dataloaders for the graphs."
   ]
  },
  {
   "cell_type": "code",
   "execution_count": 33,
   "metadata": {},
   "outputs": [
    {
     "name": "stdout",
     "output_type": "stream",
     "text": [
      "Graphs not found in file, computing graphs...\n",
      "Using noisy_delta layer for training. This will probably yield bad results.\n"
     ]
    },
    {
     "name": "stderr",
     "output_type": "stream",
     "text": [
      "Getting embeddings: 100%|██████████| 172/172 [01:13<00:00,  2.33it/s]\n",
      "Getting predictions: 100%|██████████| 172/172 [01:13<00:00,  2.34it/s]\n"
     ]
    },
    {
     "name": "stdout",
     "output_type": "stream",
     "text": [
      "Computing graphs...\n"
     ]
    },
    {
     "name": "stderr",
     "output_type": "stream",
     "text": [
      "100%|██████████| 14/14 [00:48<00:00,  3.50s/it]\n"
     ]
    },
    {
     "name": "stdout",
     "output_type": "stream",
     "text": [
      "Saving graphs...\n"
     ]
    }
   ],
   "source": [
    "from spared.dataloaders import get_graph_dataloaders\n",
    "\n",
    "#Path to where the graphs will be saved\n",
    "graphs_path= os.path.join(parentdir, \"spared/processed_data/vicari_data/vicari_mouse_brain/graphs\")\n",
    "os.makedirs(graphs_path, exist_ok=True)\n",
    "\n",
    "train_graph_loader, val_graph_loader, test_graph_loader = get_graph_dataloaders(adata = adata, dataset_path = graphs_path, layer = 'c_d_log1p', n_hops = 2, backbone = 'densenet', model_path = \"None\", batch_size = 128, shuffle = True, hex_geometry = param_dict[\"hex_geometry\"], patch_size = 224)\n"
   ]
  },
  {
   "cell_type": "markdown",
   "metadata": {},
   "source": [
    "### Models Functions\n",
    "\n",
    "`ImageEnconder` receives as input:\n",
    "\n",
    "* **backbone (str):** name of the models' backbone\n",
    "* **use_pretrained (bool):** whether to use pretrained weights (True) or not (False)\n",
    "* **latent_dim (int):** the dimension of the latent representation \n",
    "\n",
    "And returns the model with the specified backbone."
   ]
  },
  {
   "cell_type": "code",
   "execution_count": 34,
   "metadata": {},
   "outputs": [
    {
     "data": {
      "text/plain": [
       "ImageEncoder(\n",
       "  (encoder): ResNet(\n",
       "    (conv1): Conv2d(3, 64, kernel_size=(7, 7), stride=(2, 2), padding=(3, 3), bias=False)\n",
       "    (bn1): BatchNorm2d(64, eps=1e-05, momentum=0.1, affine=True, track_running_stats=True)\n",
       "    (relu): ReLU(inplace=True)\n",
       "    (maxpool): MaxPool2d(kernel_size=3, stride=2, padding=1, dilation=1, ceil_mode=False)\n",
       "    (layer1): Sequential(\n",
       "      (0): BasicBlock(\n",
       "        (conv1): Conv2d(64, 64, kernel_size=(3, 3), stride=(1, 1), padding=(1, 1), bias=False)\n",
       "        (bn1): BatchNorm2d(64, eps=1e-05, momentum=0.1, affine=True, track_running_stats=True)\n",
       "        (relu): ReLU(inplace=True)\n",
       "        (conv2): Conv2d(64, 64, kernel_size=(3, 3), stride=(1, 1), padding=(1, 1), bias=False)\n",
       "        (bn2): BatchNorm2d(64, eps=1e-05, momentum=0.1, affine=True, track_running_stats=True)\n",
       "      )\n",
       "      (1): BasicBlock(\n",
       "        (conv1): Conv2d(64, 64, kernel_size=(3, 3), stride=(1, 1), padding=(1, 1), bias=False)\n",
       "        (bn1): BatchNorm2d(64, eps=1e-05, momentum=0.1, affine=True, track_running_stats=True)\n",
       "        (relu): ReLU(inplace=True)\n",
       "        (conv2): Conv2d(64, 64, kernel_size=(3, 3), stride=(1, 1), padding=(1, 1), bias=False)\n",
       "        (bn2): BatchNorm2d(64, eps=1e-05, momentum=0.1, affine=True, track_running_stats=True)\n",
       "      )\n",
       "    )\n",
       "    (layer2): Sequential(\n",
       "      (0): BasicBlock(\n",
       "        (conv1): Conv2d(64, 128, kernel_size=(3, 3), stride=(2, 2), padding=(1, 1), bias=False)\n",
       "        (bn1): BatchNorm2d(128, eps=1e-05, momentum=0.1, affine=True, track_running_stats=True)\n",
       "        (relu): ReLU(inplace=True)\n",
       "        (conv2): Conv2d(128, 128, kernel_size=(3, 3), stride=(1, 1), padding=(1, 1), bias=False)\n",
       "        (bn2): BatchNorm2d(128, eps=1e-05, momentum=0.1, affine=True, track_running_stats=True)\n",
       "        (downsample): Sequential(\n",
       "          (0): Conv2d(64, 128, kernel_size=(1, 1), stride=(2, 2), bias=False)\n",
       "          (1): BatchNorm2d(128, eps=1e-05, momentum=0.1, affine=True, track_running_stats=True)\n",
       "        )\n",
       "      )\n",
       "      (1): BasicBlock(\n",
       "        (conv1): Conv2d(128, 128, kernel_size=(3, 3), stride=(1, 1), padding=(1, 1), bias=False)\n",
       "        (bn1): BatchNorm2d(128, eps=1e-05, momentum=0.1, affine=True, track_running_stats=True)\n",
       "        (relu): ReLU(inplace=True)\n",
       "        (conv2): Conv2d(128, 128, kernel_size=(3, 3), stride=(1, 1), padding=(1, 1), bias=False)\n",
       "        (bn2): BatchNorm2d(128, eps=1e-05, momentum=0.1, affine=True, track_running_stats=True)\n",
       "      )\n",
       "    )\n",
       "    (layer3): Sequential(\n",
       "      (0): BasicBlock(\n",
       "        (conv1): Conv2d(128, 256, kernel_size=(3, 3), stride=(2, 2), padding=(1, 1), bias=False)\n",
       "        (bn1): BatchNorm2d(256, eps=1e-05, momentum=0.1, affine=True, track_running_stats=True)\n",
       "        (relu): ReLU(inplace=True)\n",
       "        (conv2): Conv2d(256, 256, kernel_size=(3, 3), stride=(1, 1), padding=(1, 1), bias=False)\n",
       "        (bn2): BatchNorm2d(256, eps=1e-05, momentum=0.1, affine=True, track_running_stats=True)\n",
       "        (downsample): Sequential(\n",
       "          (0): Conv2d(128, 256, kernel_size=(1, 1), stride=(2, 2), bias=False)\n",
       "          (1): BatchNorm2d(256, eps=1e-05, momentum=0.1, affine=True, track_running_stats=True)\n",
       "        )\n",
       "      )\n",
       "      (1): BasicBlock(\n",
       "        (conv1): Conv2d(256, 256, kernel_size=(3, 3), stride=(1, 1), padding=(1, 1), bias=False)\n",
       "        (bn1): BatchNorm2d(256, eps=1e-05, momentum=0.1, affine=True, track_running_stats=True)\n",
       "        (relu): ReLU(inplace=True)\n",
       "        (conv2): Conv2d(256, 256, kernel_size=(3, 3), stride=(1, 1), padding=(1, 1), bias=False)\n",
       "        (bn2): BatchNorm2d(256, eps=1e-05, momentum=0.1, affine=True, track_running_stats=True)\n",
       "      )\n",
       "    )\n",
       "    (layer4): Sequential(\n",
       "      (0): BasicBlock(\n",
       "        (conv1): Conv2d(256, 512, kernel_size=(3, 3), stride=(2, 2), padding=(1, 1), bias=False)\n",
       "        (bn1): BatchNorm2d(512, eps=1e-05, momentum=0.1, affine=True, track_running_stats=True)\n",
       "        (relu): ReLU(inplace=True)\n",
       "        (conv2): Conv2d(512, 512, kernel_size=(3, 3), stride=(1, 1), padding=(1, 1), bias=False)\n",
       "        (bn2): BatchNorm2d(512, eps=1e-05, momentum=0.1, affine=True, track_running_stats=True)\n",
       "        (downsample): Sequential(\n",
       "          (0): Conv2d(256, 512, kernel_size=(1, 1), stride=(2, 2), bias=False)\n",
       "          (1): BatchNorm2d(512, eps=1e-05, momentum=0.1, affine=True, track_running_stats=True)\n",
       "        )\n",
       "      )\n",
       "      (1): BasicBlock(\n",
       "        (conv1): Conv2d(512, 512, kernel_size=(3, 3), stride=(1, 1), padding=(1, 1), bias=False)\n",
       "        (bn1): BatchNorm2d(512, eps=1e-05, momentum=0.1, affine=True, track_running_stats=True)\n",
       "        (relu): ReLU(inplace=True)\n",
       "        (conv2): Conv2d(512, 512, kernel_size=(3, 3), stride=(1, 1), padding=(1, 1), bias=False)\n",
       "        (bn2): BatchNorm2d(512, eps=1e-05, momentum=0.1, affine=True, track_running_stats=True)\n",
       "      )\n",
       "    )\n",
       "    (avgpool): AdaptiveAvgPool2d(output_size=(1, 1))\n",
       "    (fc): Linear(in_features=512, out_features=128, bias=True)\n",
       "  )\n",
       ")"
      ]
     },
     "execution_count": 34,
     "metadata": {},
     "output_type": "execute_result"
    }
   ],
   "source": [
    "from spared.models import ImageEncoder\n",
    "\n",
    "model = ImageEncoder(backbone='resnet', use_pretrained=True, latent_dim=adata.n_vars)\n",
    "model"
   ]
  },
  {
   "cell_type": "markdown",
   "metadata": {},
   "source": [
    "### Metrics Functions\n",
    "\n",
    "`get_pearsonr` receives as input:\n",
    "\n",
    "* **gt_mat (torch.Tensor):** ground truth matrix of shape (n_observations, n_variables)\n",
    "* **pred_mat (torch.Tensor):** predicted matrix of shape (n_observations, n_variables).\n",
    "* **mask (torch.Tensor):** boolean mask with False in positions that must be ignored in metric computation (n_observations, n_variables).\n",
    "* **axis (int):** wether to compute the pcc by columns (axis=0) ir by rows (axis=1)\n",
    "\n",
    "And returns a Tuple. The first position corresponds to the Mean Pearson correlation computed by averaging the Pearson correlation for each patch. The second position corresponds to a list of the Pearson Correlation Coeficient for each one of the columns."
   ]
  },
  {
   "cell_type": "markdown",
   "metadata": {},
   "source": [
    "We will be generating random prediction and ground truth matrices as well as a random mask where *26%* of the values will be masked. "
   ]
  },
  {
   "cell_type": "code",
   "execution_count": 35,
   "metadata": {},
   "outputs": [],
   "source": [
    "import torch\n",
    "\n",
    "# Set number of observations and genes (hypothetical)\n",
    "obs = 10\n",
    "genes = 8\n",
    "imputed_fraction = 0.26 # This is the percentage of zeros in the mask\n",
    "\n",
    "# Henerate random matrices\n",
    "pred = torch.randn((obs,genes))\n",
    "gt = torch.randn((obs,genes))\n",
    "mask = torch.rand((obs,genes))>imputed_fraction"
   ]
  },
  {
   "cell_type": "code",
   "execution_count": 37,
   "metadata": {},
   "outputs": [
    {
     "name": "stdout",
     "output_type": "stream",
     "text": [
      "PCC by columns: -0.015117563307285309\n",
      "[0.12692907452583313, -0.41335946321487427, -0.24393296241760254, -0.08920001983642578, -0.06844679266214371, 0.349907249212265, 0.31566140055656433, -0.09849900007247925]\n",
      "PCC by rows: -0.06763205677270889\n",
      "[-0.2717287242412567, 0.23333898186683655, 0.49103686213493347, 0.5398468375205994, -0.9066874980926514, 0.20078685879707336, -0.14311277866363525, -0.41823291778564453, -0.09764190763235092, -0.3039262294769287]\n"
     ]
    }
   ],
   "source": [
    "from spared.metrics import get_pearsonr\n",
    "\n",
    "mean_pcc_col, list_pcc_col = get_pearsonr(gt_mat=gt, pred_mat=pred, mask=mask, axis=0)\n",
    "mean_pcc_row, list_pcc_row = get_pearsonr(gt_mat=gt, pred_mat=pred, mask=mask, axis=1)\n",
    "\n",
    "print(\"PCC by columns: \" + str(mean_pcc_col))\n",
    "print(list_pcc_col)\n",
    "\n",
    "print(\"PCC by rows: \" + str(mean_pcc_row))\n",
    "print(list_pcc_row)"
   ]
  },
  {
   "cell_type": "markdown",
   "metadata": {},
   "source": [
    "`get_r2_score` receives as input:\n",
    "\n",
    "* **gt_mat (torch.Tensor):** ground truth matrix of shape (n_observations, n_variables)\n",
    "* **pred_mat (torch.Tensor):** predicted matrix of shape (n_observations, n_variables).\n",
    "* **mask (torch.Tensor):** boolean mask with False in positions that must be ignored in metric computation (n_observations, n_variables).\n",
    "* **axis (int):** wether to compute the pcc by columns (axis=0) ir by rows (axis=1)\n",
    "\n",
    "And returns a Tuple. The first position corresponds to the Mean R2 score computed by averaging the R2 score for each column in the matrices. The second position corresponds to a list of R2 scores for each one of the columns."
   ]
  },
  {
   "cell_type": "markdown",
   "metadata": {},
   "source": [
    "We will be generating random prediction and ground truth matrices as well as a random mask where *26%* of the values will be masked."
   ]
  },
  {
   "cell_type": "code",
   "execution_count": 38,
   "metadata": {},
   "outputs": [],
   "source": [
    "import torch\n",
    "\n",
    "# Set number of observations and genes (hypothetical)\n",
    "obs = 10\n",
    "genes = 8\n",
    "imputed_fraction = 0.26 # This is the percentage of zeros in the mask\n",
    "\n",
    "# Henerate random matrices\n",
    "pred = torch.randn((obs,genes))\n",
    "gt = torch.randn((obs,genes))\n",
    "mask = torch.rand((obs,genes))>imputed_fraction"
   ]
  },
  {
   "cell_type": "code",
   "execution_count": 39,
   "metadata": {},
   "outputs": [
    {
     "name": "stdout",
     "output_type": "stream",
     "text": [
      "R2 Score by columns: -2.138458728790283\n",
      "[-7.6269636154174805, -0.70006263256073, -0.9745147228240967, -2.8879001140594482, -0.8332282304763794, -0.8533769845962524, -0.6426693201065063, -2.5889532566070557]\n",
      "R2 Score by rows: -2.4447762966156006\n",
      "[-5.169365882873535, -0.17420589923858643, -0.29414284229278564, -5.680106163024902, -1.1271371841430664, -1.6561994552612305, -2.1221063137054443, -1.418036937713623, -6.671281814575195, -0.1351790428161621]\n"
     ]
    }
   ],
   "source": [
    "from spared.metrics import get_r2_score\n",
    "\n",
    "mean_r2_col, list_r2_col = get_r2_score(gt_mat=gt, pred_mat=pred, mask=mask, axis=0)\n",
    "mean_r2_row, list_r2_row = get_r2_score(gt_mat=gt, pred_mat=pred, mask=mask, axis=1)\n",
    "\n",
    "print(\"R2 Score by columns: \" + str(mean_r2_col))\n",
    "print(list_r2_col)\n",
    "\n",
    "print(\"R2 Score by rows: \" + str(mean_r2_row))\n",
    "print(list_r2_row)"
   ]
  },
  {
   "cell_type": "markdown",
   "metadata": {},
   "source": [
    "`get_metrics` receives as input:\n",
    "\n",
    "* **gt_mat (Union[np.array, torch.Tensor]):** ground truth matrix of shape (n_samples, n_genes).\n",
    "* **pred_mat (Union[np.array, torch.Tensor]):** predicted matrix of shape (n_samples, n_genes).\n",
    "* **mask (Union[np.array, torch.Tensor]):** boolean mask with False in positions that must be ignored in metric computation (n_samples, n_genes).\n",
    "* **detailed (bool):** if True, the dictionary also includes the detailed metrics.\n",
    "\n",
    "And computes the following metrics:\n",
    "    \n",
    "* Pearson correlation (gene-wise) [PCC-Gene]\n",
    "* Pearson correlation (patch-wise) [PCC-Patch]\n",
    "* r2 score (gene-wise) [R2-Gene]\n",
    "* r2 score (patch-wise) [R2-Patch]\n",
    "* Mean squared error [MSE]\n",
    "* Mean absolute error [MAE]\n",
    "* Global metric [Global] (Global = PCC-Gene + R2-Gene + PCC-Patch + R2-Patch - MAE - MSE)\n",
    "    \n",
    "If detailed == True. Then the function returns these aditional keys (all of them are numpy arrays):\n",
    "\n",
    "* Individual pearson correlation for every gene [PPC-Gene-detailed]\n",
    "* Individual pearson correlation for every patch [PPC-Patch-detailed]\n",
    "* Individual r2 score for every gene [R2-Gene-detailed]\n",
    "* Individual r2 score for every patch [R2-Gene-detailed]\n",
    "* Individual MSE for every gene [detailed_mse_gene]\n",
    "* Individual MAE for every gene [detailed_mae_gene]\n",
    "* Individual average error for every gene [detailed_error_gene]\n",
    "* Flat concatenation of all errors in valid positions [detailed_errors]"
   ]
  },
  {
   "cell_type": "markdown",
   "metadata": {},
   "source": [
    "We will be generating random prediction and ground truth matrices as well as a random mask where *26%* of the values will be masked."
   ]
  },
  {
   "cell_type": "code",
   "execution_count": 40,
   "metadata": {},
   "outputs": [],
   "source": [
    "import torch\n",
    "\n",
    "# Set number of observations and genes (hypothetical)\n",
    "obs = 10\n",
    "genes = 8\n",
    "imputed_fraction = 0.26 # This is the percentage of zeros in the mask\n",
    "\n",
    "# Henerate random matrices\n",
    "pred = torch.randn((obs,genes))\n",
    "gt = torch.randn((obs,genes))"
   ]
  },
  {
   "cell_type": "code",
   "execution_count": 42,
   "metadata": {},
   "outputs": [
    {
     "name": "stdout",
     "output_type": "stream",
     "text": [
      "Metrics dictionary:\n",
      "{'PCC-Gene': 0.04543307423591614, 'PCC-Patch': -0.04423578828573227, 'R2-Gene': -1.2878955602645874, 'R2-Patch': -1.2725622653961182, 'MSE': 1.929948091506958, 'MAE': 1.210641860961914, 'Global': -5.699850492179394}\n",
      "Detailed metrics dictionary:\n",
      "{'PCC-Gene': 0.04543307423591614, 'PCC-Patch': -0.04423578828573227, 'R2-Gene': -1.2878955602645874, 'R2-Patch': -1.2725622653961182, 'MSE': 1.929948091506958, 'MAE': 1.210641860961914, 'Global': -5.699850492179394, 'detailed_PCC-Gene': [-0.3413351774215698, -0.3945545554161072, -0.30826207995414734, 0.3024144768714905, 0.5615623593330383, 0.3357609212398529, 0.04239977151155472, 0.16547885537147522], 'detailed_PCC-Patch': [-0.5003367066383362, 0.26772475242614746, 0.22918915748596191, 0.411629319190979, 0.3413335680961609, 0.1276792734861374, -0.32421401143074036, 0.3893240988254547, -0.8804093599319458, -0.5042781233787537], 'detailed_R2-Gene': [-4.937286853790283, -1.3593428134918213, -1.7225327491760254, -0.9123276472091675, 0.19426345825195312, -1.1237037181854248, -0.31973206996917725, -0.12250137329101562], 'detailed_R2-Patch': [-1.8787126541137695, -0.21944868564605713, -0.3455028533935547, -2.092127799987793, -0.672982931137085, -1.2860877513885498, -2.9711503982543945, 0.12316030263900757, -1.2563903331756592, -2.126380205154419], 'detailed_mse_gene': [2.4522900581359863, 3.1276254653930664, 2.7207818031311035, 2.7184953689575195, 1.0256798267364502, 0.5795800089836121, 1.5344916582107544, 1.0197347402572632], 'detailed_mae_gene': [1.5207951068878174, 1.5762557983398438, 1.5312249660491943, 1.351953387260437, 0.974861741065979, 0.6701635122299194, 1.1079084873199463, 0.8493175506591797], 'detailed_error_gene': [0.6236387491226196, 0.7737838625907898, 0.021222364157438278, -0.6873418688774109, -0.29928943514823914, -0.1675608605146408, -0.023619970306754112, 0.006538987159729004], 'detailed_errors': [-0.9955630302429199, 2.232017993927002, -1.0782129764556885, 0.4054959714412689, -0.6402679681777954, 1.815920114517212, 2.149885416030884, -2.1252622604370117, 0.0857689380645752, 1.048356294631958, -1.0135648250579834, 3.3536953926086426, 0.9642391204833984, -1.0161360502243042, 0.5371794700622559, -0.7355591654777527, 1.5061712265014648, -1.3742101192474365, -1.2305560111999512, 1.9080657958984375, -1.135448932647705, -1.6635754108428955, 0.18463551998138428, 1.0592050552368164, -1.9808635711669922, -0.233209490776062, -0.9075261354446411, -0.8686801195144653, -0.5802714824676514, 0.5459168553352356, -2.3197290897369385, 1.1245546340942383, -1.1255422830581665, 0.06027233600616455, 0.0786602795124054, 1.6370632648468018, 1.475583553314209, 1.4010159969329834, 0.7027691006660461, 0.9791210293769836, 1.543533205986023, -1.7649891376495361, 1.922676920890808, -0.30027511715888977, -0.841028094291687, -1.4530059099197388, -0.373681902885437, 1.9081010818481445, 1.361789345741272, 0.6963702440261841, -2.481745481491089, 0.2773855924606323, -1.0677704811096191, 0.9717578887939453, -1.6340534687042236, -2.213331460952759, -1.4048391580581665, 1.8216403722763062, 1.1101298332214355]}\n"
     ]
    }
   ],
   "source": [
    "from spared.metrics import get_metrics\n",
    "\n",
    "dict_metrics = get_metrics(gt_mat = gt, pred_mat = pred, mask = mask, detailed = False)\n",
    "dict_metrics_detailed = get_metrics(gt_mat = gt, pred_mat = pred, mask = mask, detailed = True)\n",
    "\n",
    "print(\"Metrics dictionary:\")\n",
    "print(dict_metrics)\n",
    "print(\"Detailed metrics dictionary:\")\n",
    "print(dict_metrics_detailed)"
   ]
  }
 ],
 "metadata": {
  "kernelspec": {
   "display_name": "H2ST",
   "language": "python",
   "name": "python3"
  },
  "language_info": {
   "codemirror_mode": {
    "name": "ipython",
    "version": 3
   },
   "file_extension": ".py",
   "mimetype": "text/x-python",
   "name": "python",
   "nbconvert_exporter": "python",
   "pygments_lexer": "ipython3",
   "version": "3.8.18"
  }
 },
 "nbformat": 4,
 "nbformat_minor": 2
}
